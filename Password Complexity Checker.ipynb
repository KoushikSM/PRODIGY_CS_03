{
 "cells": [
  {
   "cell_type": "code",
   "execution_count": 1,
   "id": "c9f41a82",
   "metadata": {},
   "outputs": [],
   "source": [
    "import re"
   ]
  },
  {
   "cell_type": "code",
   "execution_count": 6,
   "id": "bd3c56f5",
   "metadata": {},
   "outputs": [
    {
     "name": "stdout",
     "output_type": "stream",
     "text": [
      "Enter the Password : mkYOn21$\n",
      "Password Strength : Strong\n"
     ]
    }
   ],
   "source": [
    "def check_passwd_complexity(password):\n",
    "    length_criteria=len(password)>=8\n",
    "    uppercase_criteria=re.search(r\"[A-Z]\",password) is not None\n",
    "    lowercase_criteria=re.search(r\"[a-z]\",password) is not None\n",
    "    digit_criteria=re.search(r\"\\d\",password) is not None\n",
    "    special_char_criteria=re.search(r\"[!@#$%^&*()_+{}\\[\\]:;\\\"'|<,./>?]\",password) is not None\n",
    "    \n",
    "    if all([length_criteria, uppercase_criteria, lowercase_criteria, digit_criteria, special_char_criteria]):\n",
    "        return \"Strong\"\n",
    "    else:\n",
    "        return \"Weak\"\n",
    "    \n",
    "def main():\n",
    "    password=input(\"Enter the Password : \")\n",
    "    result=check_passwd_complexity(password)\n",
    "    print(f\"Password Strength : {result}\")\n",
    "    \n",
    "if __name__==\"__main__\":\n",
    "    main()\n",
    "    \n",
    "    \n",
    "    "
   ]
  },
  {
   "cell_type": "code",
   "execution_count": null,
   "id": "a94862ee",
   "metadata": {},
   "outputs": [],
   "source": []
  }
 ],
 "metadata": {
  "kernelspec": {
   "display_name": "Python 3 (ipykernel)",
   "language": "python",
   "name": "python3"
  },
  "language_info": {
   "codemirror_mode": {
    "name": "ipython",
    "version": 3
   },
   "file_extension": ".py",
   "mimetype": "text/x-python",
   "name": "python",
   "nbconvert_exporter": "python",
   "pygments_lexer": "ipython3",
   "version": "3.11.4"
  }
 },
 "nbformat": 4,
 "nbformat_minor": 5
}
